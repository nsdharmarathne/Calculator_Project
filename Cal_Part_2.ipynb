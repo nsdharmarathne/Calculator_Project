{
 "cells": [
  {
   "cell_type": "code",
   "execution_count": 2,
   "id": "b818cbe9-f260-4034-ba44-08ebd2237941",
   "metadata": {},
   "outputs": [],
   "source": [
    "# Function to clear entry field\n",
    "def clear():\n",
    "    entry.delete(0, tk.END)\n",
    "\n",
    "\n",
    "# Function to delete last character (backspace)\n",
    "def backspace():\n",
    "    current_text = entry.get()\n",
    "    entry.delete(len(current_text) - 1)\n",
    "\n",
    "\n",
    "# Function to calculate square of the number\n",
    "def square():\n",
    "    try:\n",
    "        num = float(entry.get())\n",
    "        entry.delete(0, tk.END)\n",
    "        entry.insert(0, num ** 2)\n",
    "    except ValueError:\n",
    "        messagebox.showerror(\"Error\", \"Enter a valid number!\")\n",
    "\n",
    "\n",
    "# Function to calculate square root\n",
    "def square_root():\n",
    "    try:\n",
    "        num = float(entry.get())\n",
    "        if num < 0:\n",
    "            messagebox.showerror(\"Error\", \"Cannot calculate square root of a negative number!\")\n",
    "        else:\n",
    "            entry.delete(0, tk.END)\n",
    "            entry.insert(0, math.sqrt(num))\n",
    "    except ValueError:\n",
    "        messagebox.showerror(\"Error\", \"Enter a valid number!\")\n",
    "\n",
    "\n",
    "# Function to exit the application\n",
    "def exit_app():\n",
    "    window.quit()\n"
   ]
  },
  {
   "cell_type": "code",
   "execution_count": null,
   "id": "3a8a5cb9",
   "metadata": {},
   "outputs": [],
   "source": []
  }
 ],
 "metadata": {
  "kernelspec": {
   "display_name": "Python 3 (ipykernel)",
   "language": "python",
   "name": "python3"
  },
  "language_info": {
   "codemirror_mode": {
    "name": "ipython",
    "version": 3
   },
   "file_extension": ".py",
   "mimetype": "text/x-python",
   "name": "python",
   "nbconvert_exporter": "python",
   "pygments_lexer": "ipython3",
   "version": "3.12.7"
  }
 },
 "nbformat": 4,
 "nbformat_minor": 5
}
