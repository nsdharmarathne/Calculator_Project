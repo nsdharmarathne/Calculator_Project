{
 "cells": [
  {
   "cell_type": "code",
   "execution_count": null,
   "id": "2092fbe9-bb29-4b7b-89c0-0da48d5377ed",
   "metadata": {},
   "outputs": [],
   "source": [
    "# Function to clear entry field\n",
    "def clear():\n",
    "    entry.delete(0, tk.END)\n",
    "\n",
    "\n",
    "# Function to delete last character (backspace)\n",
    "def backspace():\n",
    "    current_text = entry.get()\n",
    "    entry.delete(len(current_text) - 1)\n",
    "\n",
    "\n",
    "# Function to calculate square of the number\n",
    "def square():\n",
    "    try:\n",
    "        num = float(entry.get())\n",
    "        entry.delete(0, tk.END)\n",
    "        entry.insert(0, num ** 2)\n",
    "    except ValueError:\n",
    "        messagebox.showerror(\"Error\", \"Enter a valid number!\")\n",
    "\n",
    "\n",
    "# Function to calculate square root\n",
    "def square_root():\n",
    "    try:\n",
    "        num = float(entry.get())\n",
    "        if num < 0:\n",
    "            messagebox.showerror(\"Error\", \"Cannot calculate square root of a negative number!\")\n",
    "        else:\n",
    "            entry.delete(0, tk.END)\n",
    "            entry.insert(0, math.sqrt(num))\n",
    "    except ValueError:\n",
    "        messagebox.showerror(\"Error\", \"Enter a valid number!\")\n",
    "\n",
    "\n",
    "# Function to exit the application\n",
    "def exit_app():\n",
    "    window.quit()"
   ]
  },
  {
   "cell_type": "code",
   "execution_count": 5,
   "id": "65e37e43",
   "metadata": {},
   "outputs": [],
   "source": [
    "# Function to clear entry field\n",
    "def clear():\n",
    "    entry.delete(0, tk.END)\n",
    "\n",
    "\n",
    "# Function to delete last character (backspace)\n",
    "def backspace():\n",
    "    current_text = entry.get()\n",
    "    entry.delete(len(current_text) - 1)\n",
    "\n",
    "\n",
    "# Function to calculate square of the number\n",
    "def square():\n",
    "    try:\n",
    "        num = float(entry.get())\n",
    "        entry.delete(0, tk.END)\n",
    "        entry.insert(0, num ** 2)\n",
    "    except ValueError:\n",
    "        messagebox.showerror(\"Error\", \"Enter a valid number!\")\n",
    "\n",
    "\n",
    "# Function to calculate square root\n",
    "def square_root():\n",
    "    try:\n",
    "        num = float(entry.get())\n",
    "        if num < 0:\n",
    "            messagebox.showerror(\"Error\", \"Cannot calculate square root of a negative number!\")\n",
    "        else:\n",
    "            entry.delete(0, tk.END)\n",
    "            entry.insert(0, math.sqrt(num))\n",
    "    except ValueError:\n",
    "        messagebox.showerror(\"Error\", \"Enter a valid number!\")\n",
    "\n",
    "\n",
    "# Function to exit the application\n",
    "def exit_app():\n",
    "    window.quit()"
   ]
  },
  {
   "cell_type": "code",
   "execution_count": 6,
   "id": "b28ad66b",
   "metadata": {},
   "outputs": [
    {
     "ename": "NameError",
     "evalue": "name 'tk' is not defined",
     "output_type": "error",
     "traceback": [
      "\u001b[1;31m---------------------------------------------------------------------------\u001b[0m",
      "\u001b[1;31mNameError\u001b[0m                                 Traceback (most recent call last)",
      "Cell \u001b[1;32mIn[6], line 12\u001b[0m\n\u001b[0;32m     10\u001b[0m \u001b[38;5;28;01mfor\u001b[39;00m text, row, col \u001b[38;5;129;01min\u001b[39;00m buttons:\n\u001b[0;32m     11\u001b[0m     action \u001b[38;5;241m=\u001b[39m \u001b[38;5;28;01mlambda\u001b[39;00m x\u001b[38;5;241m=\u001b[39mtext: myclick(x) \u001b[38;5;28;01mif\u001b[39;00m x \u001b[38;5;241m!=\u001b[39m \u001b[38;5;124m\"\u001b[39m\u001b[38;5;124m=\u001b[39m\u001b[38;5;124m\"\u001b[39m \u001b[38;5;28;01melse\u001b[39;00m equal()\n\u001b[1;32m---> 12\u001b[0m     tk\u001b[38;5;241m.\u001b[39mButton(window, text\u001b[38;5;241m=\u001b[39mtext, font\u001b[38;5;241m=\u001b[39mfont_style, padx\u001b[38;5;241m=\u001b[39m\u001b[38;5;241m20\u001b[39m, pady\u001b[38;5;241m=\u001b[39m\u001b[38;5;241m15\u001b[39m, command\u001b[38;5;241m=\u001b[39maction)\u001b[38;5;241m.\u001b[39mgrid(row\u001b[38;5;241m=\u001b[39mrow, column\u001b[38;5;241m=\u001b[39mcol, padx\u001b[38;5;241m=\u001b[39m\u001b[38;5;241m5\u001b[39m, pady\u001b[38;5;241m=\u001b[39m\u001b[38;5;241m5\u001b[39m)\n\u001b[0;32m     14\u001b[0m \u001b[38;5;66;03m# Special Buttons\u001b[39;00m\n\u001b[0;32m     15\u001b[0m tk\u001b[38;5;241m.\u001b[39mButton(window, text\u001b[38;5;241m=\u001b[39m\u001b[38;5;124m\"\u001b[39m\u001b[38;5;124mC\u001b[39m\u001b[38;5;124m\"\u001b[39m, font\u001b[38;5;241m=\u001b[39mfont_style, padx\u001b[38;5;241m=\u001b[39m\u001b[38;5;241m20\u001b[39m, pady\u001b[38;5;241m=\u001b[39m\u001b[38;5;241m15\u001b[39m, command\u001b[38;5;241m=\u001b[39mclear, bg\u001b[38;5;241m=\u001b[39m\u001b[38;5;124m\"\u001b[39m\u001b[38;5;124mred\u001b[39m\u001b[38;5;124m\"\u001b[39m, fg\u001b[38;5;241m=\u001b[39m\u001b[38;5;124m\"\u001b[39m\u001b[38;5;124mwhite\u001b[39m\u001b[38;5;124m\"\u001b[39m)\u001b[38;5;241m.\u001b[39mgrid(row\u001b[38;5;241m=\u001b[39m\u001b[38;5;241m5\u001b[39m, column\u001b[38;5;241m=\u001b[39m\u001b[38;5;241m0\u001b[39m, padx\u001b[38;5;241m=\u001b[39m\u001b[38;5;241m5\u001b[39m, pady\u001b[38;5;241m=\u001b[39m\u001b[38;5;241m5\u001b[39m)\n",
      "\u001b[1;31mNameError\u001b[0m: name 'tk' is not defined"
     ]
    }
   ],
   "source": [
    "# Button Layout\n",
    "buttons = [\n",
    "    ('7', 1, 0), ('8', 1, 1), ('9', 1, 2), ('/', 1, 3),\n",
    "    ('4', 2, 0), ('5', 2, 1), ('6', 2, 2), ('*', 2, 3),\n",
    "    ('1', 3, 0), ('2', 3, 1), ('3', 3, 2), ('-', 3, 3),\n",
    "    ('0', 4, 0), ('.', 4, 1), ('+', 4, 2), ('=', 4, 3),\n",
    "]\n",
    "\n",
    "# Create buttons dynamically\n",
    "for text, row, col in buttons:\n",
    "    action = lambda x=text: myclick(x) if x != \"=\" else equal()\n",
    "    tk.Button(window, text=text, font=font_style, padx=20, pady=15, command=action).grid(row=row, column=col, padx=5, pady=5)\n",
    "\n",
    "# Special Buttons\n",
    "tk.Button(window, text=\"C\", font=font_style, padx=20, pady=15, command=clear, bg=\"red\", fg=\"white\").grid(row=5, column=0, padx=5, pady=5)\n",
    "tk.Button(window, text=\"←\", font=font_style, padx=20, pady=15, command=backspace, bg=\"gray\", fg=\"white\").grid(row=5, column=1, padx=5, pady=5)\n",
    "tk.Button(window, text=\"x²\", font=font_style, padx=20, pady=15, command=square, bg=\"lightblue\").grid(row=5, column=2, padx=5, pady=5)\n",
    "tk.Button(window, text=\"√x\", font=font_style, padx=20, pady=15, command=square_root, bg=\"lightgreen\").grid(row=5, column=3, padx=5, pady=5)\n",
    "tk.Button(window, text=\"Exit\", font=font_style, padx=70, pady=15, command=exit_app, bg=\"black\", fg=\"white\").grid(row=6, column=0, columnspan=4, padx=5, pady=10)\n",
    "\n",
    "# Run the application\n",
    "window.mainloop()"
   ]
  },
  {
   "cell_type": "code",
   "execution_count": null,
   "id": "4ebb36b8",
   "metadata": {},
   "outputs": [],
   "source": []
  },
  {
   "cell_type": "code",
   "execution_count": null,
   "id": "6d1abce4",
   "metadata": {},
   "outputs": [],
   "source": []
  },
  {
   "cell_type": "code",
   "execution_count": null,
   "id": "f7125529",
   "metadata": {},
   "outputs": [],
   "source": []
  }
 ],
 "metadata": {
  "kernelspec": {
   "display_name": "Python 3 (ipykernel)",
   "language": "python",
   "name": "python3"
  },
  "language_info": {
   "codemirror_mode": {
    "name": "ipython",
    "version": 3
   },
   "file_extension": ".py",
   "mimetype": "text/x-python",
   "name": "python",
   "nbconvert_exporter": "python",
   "pygments_lexer": "ipython3",
   "version": "3.12.7"
  }
 },
 "nbformat": 4,
 "nbformat_minor": 5
}
