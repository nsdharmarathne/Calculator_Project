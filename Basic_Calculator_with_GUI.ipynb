{
 "cells": [
  {
   "cell_type": "markdown",
   "id": "675f7119",
   "metadata": {},
   "source": [
    "# **Project: Basic Calculator with GUI (Tkinter)**"
   ]
  },
  {
   "cell_type": "markdown",
   "id": "e59e985c",
   "metadata": {},
   "source": [
    "### **Team Members:** Group 07\n",
    "\n",
    "- Xuan Anh Mai\n",
    "- Ashanshi Nipuni Uggoda\n",
    "- Sean sav\n",
    "- Mai Vy Nguyen\n",
    "- Nandana Sri Dharmarathne\n",
    "- Chathurika Madushani\n",
    "- Phu Si On\n"
   ]
  },
  {
   "cell_type": "markdown",
   "id": "12fe329e",
   "metadata": {},
   "source": [
    "## **Description of the Project:**"
   ]
  },
  {
   "cell_type": "markdown",
   "id": "188ec9fd",
   "metadata": {},
   "source": [
    "## **Project Description**\n",
    "This project is a GUI-based **Basic Calculator** built using Python and the **Tkinter** library. The calculator allows users to perform basic arithmetic operations:\n",
    "- **Addition**\n",
    "- **Subtraction**\n",
    "- **Multiplication**\n",
    "- **Division**\n",
    "- **Square (x²)**\n",
    "- **Square Root (√x)**\n",
    "- **Clear Entry**\n",
    "- **Backspace**\n",
    "- **Exit**\n",
    "\n",
    "The calculator provides a **user-friendly interface** with buttons for each operation.\n",
    "\n",
    "---"
   ]
  },
  {
   "cell_type": "markdown",
   "id": "9dd87057",
   "metadata": {},
   "source": [
    "## **Import Required Libraries**"
   ]
  },
  {
   "cell_type": "code",
   "execution_count": null,
   "id": "fd3d60b6",
   "metadata": {},
   "outputs": [],
   "source": [
    "We first import the necessary Python modules.\n",
    "\n",
    "```python\n",
    "import tkinter as tk\n",
    "from tkinter import messagebox\n",
    "import math"
   ]
  },
  {
   "cell_type": "markdown",
   "id": "fca2b10e",
   "metadata": {},
   "source": [
    "- **tkinter:** Used to create the GUI window and buttons.\n",
    "- **message box:** Used to display error messages.\n",
    "- **math:** Used for square root calculations."
   ]
  },
  {
   "cell_type": "markdown",
   "id": "e5c9d3b3",
   "metadata": {},
   "source": [
    "##  Creating the Main Window"
   ]
  },
  {
   "cell_type": "code",
   "execution_count": null,
   "id": "bb35aa69",
   "metadata": {},
   "outputs": [],
   "source": [
    "# Create main window\n",
    "window = tk.Tk()\n",
    "window.title(\"Calculator - Group 07\")\n",
    "window.geometry(\"330x550\")\n",
    "window.resizable(False, False)  # Prevent resizing"
   ]
  },
  {
   "cell_type": "markdown",
   "id": "03e06f73",
   "metadata": {},
   "source": [
    "<p>We initialize the main application window.<p>"
   ]
  },
  {
   "cell_type": "markdown",
   "id": "976fd341",
   "metadata": {},
   "source": [
    "- ***tk.Tk():*** Creates the main window.\n",
    "- ***title():*** Sets the title of the window.\n",
    "- ***geometry():*** Sets the window size.\n",
    "- ***resizable(False, False):*** Prevents resizing."
   ]
  },
  {
   "cell_type": "markdown",
   "id": "049bfdec",
   "metadata": {},
   "source": [
    "## **Creating the Input Field:**"
   ]
  },
  {
   "cell_type": "markdown",
   "id": "813fc7ed",
   "metadata": {},
   "source": [
    "A text entry field for user input."
   ]
  },
  {
   "cell_type": "code",
   "execution_count": null,
   "id": "72c3aaf0",
   "metadata": {},
   "outputs": [],
   "source": [
    "# Define font style\n",
    "font_style = (\"poppins\", 15)\n",
    "\n",
    "# Create Entry widget\n",
    "entry = tk.Entry(window, font=font_style, borderwidth=3, relief=\"sunken\", width=22, justify=\"right\")\n",
    "entry.grid(row=0, column=0, columnspan=4, ipadx=8, ipady=8, pady=10)"
   ]
  },
  {
   "cell_type": "markdown",
   "id": "f4f5d91a",
   "metadata": {},
   "source": [
    "## **Defining Calculator Functions:**"
   ]
  },
  {
   "cell_type": "code",
   "execution_count": null,
   "id": "0217e2a4",
   "metadata": {},
   "outputs": [],
   "source": [
    "# Evaluate expression\n",
    "def equal():\n",
    "    try:\n",
    "        result = eval(entry.get())\n",
    "        entry.delete(0, tk.END)\n",
    "        entry.insert(0, result)\n",
    "    except ZeroDivisionError:\n",
    "        messagebox.showerror(\"Error\", \"Cannot divide by zero!\")\n",
    "    except Exception:\n",
    "        messagebox.showerror(\"Error\", \"Invalid Expression\")"
   ]
  },
  {
   "cell_type": "code",
   "execution_count": null,
   "id": "61bfe09c",
   "metadata": {},
   "outputs": [],
   "source": [
    "# Square function (x²)\n",
    "def square():\n",
    "    try:\n",
    "        num = float(entry.get())\n",
    "        entry.delete(0, tk.END)\n",
    "        entry.insert(0, num ** 2)\n",
    "    except ValueError:\n",
    "        messagebox.showerror(\"Error\", \"Enter a valid number!\")"
   ]
  },
  {
   "cell_type": "code",
   "execution_count": null,
   "id": "465a84e2",
   "metadata": {},
   "outputs": [],
   "source": [
    "# Square root function (√x)\n",
    "def square_root():\n",
    "    try:\n",
    "        num = float(entry.get())\n",
    "        if num < 0:\n",
    "            messagebox.showerror(\"Error\", \"Cannot calculate square root of a negative number!\")\n",
    "        else:\n",
    "            entry.delete(0, tk.END)\n",
    "            entry.insert(0, math.sqrt(num))\n",
    "    except ValueError:\n",
    "        messagebox.showerror(\"Error\", \"Enter a valid number!\")"
   ]
  },
  {
   "cell_type": "markdown",
   "id": "13dfea70",
   "metadata": {},
   "source": [
    "## **Creating the Calculator Buttons**"
   ]
  },
  {
   "cell_type": "code",
   "execution_count": null,
   "id": "ae36a8de",
   "metadata": {},
   "outputs": [],
   "source": [
    "buttons = [\n",
    "    ('7', 1, 0), ('8', 1, 1), ('9', 1, 2), ('/', 1, 3),\n",
    "    ('4', 2, 0), ('5', 2, 1), ('6', 2, 2), ('*', 2, 3),\n",
    "    ('1', 3, 0), ('2', 3, 1), ('3', 3, 2), ('-', 3, 3),\n",
    "    ('0', 4, 0), ('.', 4, 1), ('+', 4, 2), ('=', 4, 3),\n",
    "]\n",
    "\n",
    "# Create buttons dynamically\n",
    "for text, row, col in buttons:\n",
    "    action = lambda x=text: myclick(x) if x != \"=\" else equal()\n",
    "    tk.Button(window, text=text, font=font_style, padx=20, pady=15, command=action).grid(row=row, column=col, padx=5, pady=5)"
   ]
  },
  {
   "cell_type": "markdown",
   "id": "b8265134",
   "metadata": {},
   "source": [
    "## **Adding Special Buttons***"
   ]
  },
  {
   "cell_type": "markdown",
   "id": "569b3fed",
   "metadata": {},
   "source": [
    "We add additional buttons for special operations."
   ]
  },
  {
   "cell_type": "code",
   "execution_count": null,
   "id": "863306da",
   "metadata": {},
   "outputs": [],
   "source": [
    "# Special Buttons\n",
    "tk.Button(window, text=\"C\", font=font_style, padx=20, pady=15, command=clear, bg=\"red\", fg=\"white\").grid(row=5, column=0, padx=5, pady=5)\n",
    "tk.Button(window, text=\"←\", font=font_style, padx=20, pady=15, command=backspace, bg=\"gray\", fg=\"white\").grid(row=5, column=1, padx=5, pady=5)\n",
    "tk.Button(window, text=\"x²\", font=font_style, padx=20, pady=15, command=square, bg=\"lightblue\").grid(row=5, column=2, padx=5, pady=5)\n",
    "tk.Button(window, text=\"√x\", font=font_style, padx=20, pady=15, command=square_root, bg=\"lightgreen\").grid(row=5, column=3, padx=5, pady=5)\n",
    "tk.Button(window, text=\"Exit\", font=font_style, padx=70, pady=15, command=exit_app, bg=\"black\", fg=\"white\").grid(row=6, column=0, columnspan=4, padx=5, pady=10)"
   ]
  },
  {
   "cell_type": "markdown",
   "id": "8bb997e3",
   "metadata": {},
   "source": [
    "- ***Clear (C):*** Clears the input field.\n",
    "- ***Backspace (←):*** Deletes the last character.\n",
    "- ***Square (x²):*** Calculates the square of the input number.\n",
    "- ***Square Root (√x):*** Finds the square root of the input number.\n",
    "- ***Exit:*** Closes the application."
   ]
  },
  {
   "cell_type": "markdown",
   "id": "5ec31a1c",
   "metadata": {},
   "source": [
    "## **Running the Calculator**\n",
    "\n"
   ]
  },
  {
   "cell_type": "code",
   "execution_count": null,
   "id": "4afa2a25",
   "metadata": {},
   "outputs": [],
   "source": [
    "# Run the application\n",
    "window.mainloop()"
   ]
  },
  {
   "cell_type": "markdown",
   "id": "5d4a089d",
   "metadata": {},
   "source": [
    "## **Sample Output (GUI)**"
   ]
  },
  {
   "attachments": {
    "image_filename.png.PNG": {
     "image/png": "[encoded data removed]"
    }
   },
   "cell_type": "markdown",
   "id": "6a11f3af",
   "metadata": {},
   "source": [
    "![image_filename.png.PNG](attachment:image_filename.png.PNG) { width=100 height=50 }"
   ]
  },
  {
   "cell_type": "code",
   "execution_count": 5,
   "id": "39032208",
   "metadata": {},
   "outputs": [
    {
     "ename": "SyntaxError",
     "evalue": "invalid character '←' (U+2190) (4231438757.py, line 12)",
     "output_type": "error",
     "traceback": [
      "\u001b[1;36m  Cell \u001b[1;32mIn[5], line 12\u001b[1;36m\u001b[0m\n\u001b[1;33m    |  C   |  ←   |  x²  |  √x  |\u001b[0m\n\u001b[1;37m              ^\u001b[0m\n\u001b[1;31mSyntaxError\u001b[0m\u001b[1;31m:\u001b[0m invalid character '←' (U+2190)\n"
     ]
    }
   ],
   "source": [
    "|-------------------------------|\n",
    "|       [ Entry Field ]         |\n",
    "|-------------------------------|\n",
    "|  7   |  8   |  9   |  /   |\n",
    "|-------------------------------|\n",
    "|  4   |  5   |  6   |  *   |\n",
    "|-------------------------------|\n",
    "|  1   |  2   |  3   |  -   |\n",
    "|-------------------------------|\n",
    "|  0   |  .   |  +   |  =   |\n",
    "|-------------------------------|\n",
    "|  C   |  ←   |  x²  |  √x  |\n",
    "|-------------------------------|\n",
    "|          [ Exit ]             |\n",
    "|-------------------------------|\n"
   ]
  },
  {
   "cell_type": "markdown",
   "id": "09084981",
   "metadata": {},
   "source": [
    "## **Conclusion**"
   ]
  },
  {
   "cell_type": "markdown",
   "id": "2bfa75c0",
   "metadata": {},
   "source": [
    "This ***Tkinter-based GUI Calculator*** allows users to perform basic arithmetic calculations interactively. The interface is designed for ease of use and provides error handling for invalid inputs."
   ]
  },
  {
   "cell_type": "markdown",
   "id": "1f0f8591",
   "metadata": {},
   "source": [
    "### Future Improvements"
   ]
  },
  {
   "cell_type": "markdown",
   "id": "19830c31",
   "metadata": {},
   "source": [
    "- Add **trigonometric functions*** (sin, cos, tan).\n",
    "- Implement a ***dark mode theme***.\n",
    "- Add ***memory functions*** (M+, M-, MR)."
   ]
  }
 ],
 "metadata": {
  "kernelspec": {
   "display_name": "Python 3 (ipykernel)",
   "language": "python",
   "name": "python3"
  },
  "language_info": {
   "codemirror_mode": {
    "name": "ipython",
    "version": 3
   },
   "file_extension": ".py",
   "mimetype": "text/x-python",
   "name": "python",
   "nbconvert_exporter": "python",
   "pygments_lexer": "ipython3",
   "version": "3.12.7"
  }
 },
 "nbformat": 4,
 "nbformat_minor": 5
}
