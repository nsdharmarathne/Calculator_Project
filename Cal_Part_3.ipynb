{
 "cells": [
  {
   "cell_type": "code",
   "execution_count": null,
   "id": "cb0fa29b-38e7-48fb-a85c-2a5e72eb07ef",
   "metadata": {},
   "outputs": [],
   "source": [
    "# Button Layout\n",
    "buttons = [\n",
    "    ('7', 1, 0), ('8', 1, 1), ('9', 1, 2), ('/', 1, 3),\n",
    "    ('4', 2, 0), ('5', 2, 1), ('6', 2, 2), ('*', 2, 3),\n",
    "    ('1', 3, 0), ('2', 3, 1), ('3', 3, 2), ('-', 3, 3),\n",
    "    ('0', 4, 0), ('.', 4, 1), ('+', 4, 2), ('=', 4, 3),\n",
    "]\n",
    "\n",
    "# Create buttons dynamically\n",
    "for text, row, col in buttons:\n",
    "    action = lambda x=text: myclick(x) if x != \"=\" else equal()\n",
    "    tk.Button(window, text=text, font=font_style, padx=20, pady=15, command=action).grid(row=row, column=col, padx=5, pady=5)\n",
    "\n",
    "# Special Buttons\n",
    "tk.Button(window, text=\"C\", font=font_style, padx=20, pady=15, command=clear, bg=\"red\", fg=\"white\").grid(row=5, column=0, padx=5, pady=5)\n",
    "tk.Button(window, text=\"←\", font=font_style, padx=20, pady=15, command=backspace, bg=\"gray\", fg=\"white\").grid(row=5, column=1, padx=5, pady=5)\n",
    "tk.Button(window, text=\"x²\", font=font_style, padx=20, pady=15, command=square, bg=\"lightblue\").grid(row=5, column=2, padx=5, pady=5)\n",
    "tk.Button(window, text=\"√x\", font=font_style, padx=20, pady=15, command=square_root, bg=\"lightgreen\").grid(row=5, column=3, padx=5, pady=5)\n",
    "tk.Button(window, text=\"Exit\", font=font_style, padx=70, pady=15, command=exit_app, bg=\"black\", fg=\"white\").grid(row=6, column=0, columnspan=4, padx=5, pady=10)\n",
    "\n",
    "# Run the application\n",
    "window.mainloop()"
   ]
  }
 ],
 "metadata": {
  "kernelspec": {
   "display_name": "Python 3 (ipykernel)",
   "language": "python",
   "name": "python3"
  },
  "language_info": {
   "codemirror_mode": {
    "name": "ipython",
    "version": 3
   },
   "file_extension": ".py",
   "mimetype": "text/x-python",
   "name": "python",
   "nbconvert_exporter": "python",
   "pygments_lexer": "ipython3",
   "version": "3.12.7"
  }
 },
 "nbformat": 4,
 "nbformat_minor": 5
}
