{
 "cells": [
  {
   "cell_type": "code",
   "execution_count": 2,
   "id": "59b63988-6059-4dbb-b9e4-66ae7d83b548",
   "metadata": {},
   "outputs": [],
   "source": [
    "# Create main window\n",
    "window = tk.Tk()\n",
    "window.title(\"Calculator Group - 07\")\n",
    "window.geometry(\"330x550\")\n",
    "window.resizable(False, False)  # Prevent resizing\n",
    "\n",
    "# Define font style\n",
    "font_style = (\"poppins\", 15)\n",
    "\n",
    "# Create Entry widget for input\n",
    "entry = tk.Entry(window, font=font_style, borderwidth=3, relief=\"sunken\", width=22, justify=\"right\")\n",
    "entry.grid(row=0, column=0, columnspan=4, ipadx=8, ipady=8, pady=10)\n",
    "\n",
    "\n",
    "# Function to insert number/symbol into entry field\n",
    "def myclick(value):\n",
    "    entry.insert(tk.END, value)\n",
    "\n",
    "\n",
    "# Function to evaluate the expression\n",
    "def equal():\n",
    "    try:\n",
    "        result = eval(entry.get())\n",
    "        entry.delete(0, tk.END)\n",
    "        entry.insert(0, result)\n",
    "    except ZeroDivisionError:\n",
    "        messagebox.showerror(\"Error\", \"Cannot divide by zero!\")\n",
    "    except Exception:\n",
    "        messagebox.showerror(\"Error\", \"Invalid Expression\")\n",
    "\n",
    "\n",
    "\n"
   ]
  },
  {
   "cell_type": "code",
   "execution_count": null,
   "id": "578ed5cb",
   "metadata": {},
   "outputs": [],
   "source": []
  },
  {
   "cell_type": "code",
   "execution_count": null,
   "id": "55dbd238",
   "metadata": {},
   "outputs": [],
   "source": []
  }
 ],
 "metadata": {
  "kernelspec": {
   "display_name": "Python 3 (ipykernel)",
   "language": "python",
   "name": "python3"
  },
  "language_info": {
   "codemirror_mode": {
    "name": "ipython",
    "version": 3
   },
   "file_extension": ".py",
   "mimetype": "text/x-python",
   "name": "python",
   "nbconvert_exporter": "python",
   "pygments_lexer": "ipython3",
   "version": "3.12.7"
  }
 },
 "nbformat": 4,
 "nbformat_minor": 5
}
